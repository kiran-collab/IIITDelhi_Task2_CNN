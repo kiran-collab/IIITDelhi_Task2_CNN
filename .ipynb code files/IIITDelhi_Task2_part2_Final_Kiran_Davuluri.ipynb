{
  "nbformat": 4,
  "nbformat_minor": 0,
  "metadata": {
    "colab": {
      "name": "IIITDelhi_Task_2_Final.ipynb",
      "provenance": [],
      "collapsed_sections": []
    },
    "kernelspec": {
      "name": "python3",
      "display_name": "Python 3"
    },
    "language_info": {
      "name": "python"
    },
    "accelerator": "GPU"
  },
  "cells": [
    {
      "cell_type": "code",
      "metadata": {
        "colab": {
          "base_uri": "https://localhost:8080/"
        },
        "id": "cd5urQZz-sFC",
        "outputId": "e2cc6bf7-02e0-4efd-d970-88a80662564a"
      },
      "source": [
        "from google.colab import drive\n",
        "drive.mount('/content/drive')"
      ],
      "execution_count": 4,
      "outputs": [
        {
          "output_type": "stream",
          "text": [
            "Mounted at /content/drive\n"
          ],
          "name": "stdout"
        }
      ]
    },
    {
      "cell_type": "code",
      "metadata": {
        "id": "S7zROHXK9CRk"
      },
      "source": [
        "#Imports\n",
        "import keras\n",
        "from keras.utils import to_categorical\n",
        "from tensorflow.keras.models import Sequential\n",
        "from tensorflow.keras.layers import Dense\n",
        "import tensorflow as tf\n",
        "import tensorflow.keras\n",
        "import matplotlib.pyplot as plt\n",
        "from tensorflow.keras.layers import *\n",
        "from tensorflow.keras.layers import Dense,GlobalAveragePooling2D,Dropout, BatchNormalization, MaxPooling2D, AveragePooling2D, Flatten, Conv2D\n",
        "from tensorflow.keras.preprocessing import image\n",
        "from tensorflow.keras.applications.mobilenet import preprocess_input\n",
        "from tensorflow.keras.preprocessing.image import ImageDataGenerator\n",
        "from tensorflow.keras.models import Model\n",
        "from tensorflow.keras.optimizers import Adam\n",
        "from tensorflow.keras import layers\n",
        "import tensorflow.keras.backend as K\n",
        "from tensorflow.keras import regularizers\n",
        "from keras.models import load_model\n",
        "import numpy as np\n",
        "import pandas as pd\n",
        "import matplotlib\n",
        "import os\n",
        "import math\n",
        "#load mnist dataset\n",
        "from keras.datasets import mnist"
      ],
      "execution_count": 5,
      "outputs": []
    },
    {
      "cell_type": "markdown",
      "metadata": {
        "id": "9m96u2fypien"
      },
      "source": [
        "#Pretrained model"
      ]
    },
    {
      "cell_type": "code",
      "metadata": {
        "id": "LpZ1fCPy-WO3"
      },
      "source": [
        "model=load_model('/content/drive/MyDrive/IIITDelhi_Task1_v1_again2_67.h5')"
      ],
      "execution_count": 11,
      "outputs": []
    },
    {
      "cell_type": "code",
      "metadata": {
        "id": "UZYI4gFrx9kn"
      },
      "source": [
        "#load mnist datasets\n",
        "(X_train, y_train), (X_test, y_test) = mnist.load_data()"
      ],
      "execution_count": 8,
      "outputs": []
    },
    {
      "cell_type": "code",
      "metadata": {
        "colab": {
          "base_uri": "https://localhost:8080/"
        },
        "id": "kJHBHELQ6IlE",
        "outputId": "6e31f56c-7190-46fe-f1af-0359ec501180"
      },
      "source": [
        "y_train.shape"
      ],
      "execution_count": 9,
      "outputs": [
        {
          "output_type": "execute_result",
          "data": {
            "text/plain": [
              "(60000,)"
            ]
          },
          "metadata": {
            "tags": []
          },
          "execution_count": 9
        }
      ]
    },
    {
      "cell_type": "code",
      "metadata": {
        "id": "gdIATylE8CH4"
      },
      "source": [
        "X_train = X_train.astype(\"float32\") / 255\n",
        "X_test = X_test.astype(\"float32\") / 255\n",
        "# Make sure images have shape (28, 28, 1)\n",
        "X_train = np.expand_dims(X_train, -1)\n",
        "X_test = np.expand_dims(X_test, -1)\n",
        "y_train = keras.utils.to_categorical(y_train,10)\n",
        "y_test = keras.utils.to_categorical(y_test,10)"
      ],
      "execution_count": 10,
      "outputs": []
    },
    {
      "cell_type": "code",
      "metadata": {
        "colab": {
          "base_uri": "https://localhost:8080/",
          "height": 52
        },
        "id": "VSqI8x6aAtvP",
        "outputId": "fbd7a5a7-8667-432b-fdff-3501205f687b"
      },
      "source": [
        "#changing classes from 2 to 10\n",
        "model.pop()\n",
        "model.add(Dense(10, activation='softmax', name='MNIST_class_layers'))\n",
        "\n",
        "'''model1.add(Conv2D(64, (3,3), activation='relu',input_shape=(28, 28,1),name=\"conv2\"))\n",
        "for layer in model.layers[:-1]:\n",
        "  model1.add(layer)\n",
        "model1.add(Dense(10, activation='softmax', name='MNIST_class_layers'))'''\n"
      ],
      "execution_count": 12,
      "outputs": [
        {
          "output_type": "execute_result",
          "data": {
            "application/vnd.google.colaboratory.intrinsic+json": {
              "type": "string"
            },
            "text/plain": [
              "'model1.add(Conv2D(64, (3,3), activation=\\'relu\\',input_shape=(28, 28,1),name=\"conv2\"))\\nfor layer in model.layers[:-1]:\\n  model1.add(layer)\\nmodel1.add(Dense(10, activation=\\'softmax\\', name=\\'MNIST_class_layers\\'))'"
            ]
          },
          "metadata": {
            "tags": []
          },
          "execution_count": 12
        }
      ]
    },
    {
      "cell_type": "code",
      "metadata": {
        "colab": {
          "base_uri": "https://localhost:8080/"
        },
        "id": "3Oy1-nwa9Rrh",
        "outputId": "db40afdc-70ae-4f4e-a6d5-615e417fb4b1"
      },
      "source": [
        "model.summary()"
      ],
      "execution_count": 13,
      "outputs": [
        {
          "output_type": "stream",
          "text": [
            "Model: \"sequential_1\"\n",
            "_________________________________________________________________\n",
            "Layer (type)                 Output Shape              Param #   \n",
            "=================================================================\n",
            "conv2d_2 (Conv2D)            (None, 26, 26, 64)        640       \n",
            "_________________________________________________________________\n",
            "max_pooling2d_2 (MaxPooling2 (None, 13, 13, 64)        0         \n",
            "_________________________________________________________________\n",
            "conv2d_3 (Conv2D)            (None, 11, 11, 32)        18464     \n",
            "_________________________________________________________________\n",
            "max_pooling2d_3 (MaxPooling2 (None, 5, 5, 32)          0         \n",
            "_________________________________________________________________\n",
            "flatten_1 (Flatten)          (None, 800)               0         \n",
            "_________________________________________________________________\n",
            "dense_2 (Dense)              (None, 32)                25632     \n",
            "_________________________________________________________________\n",
            "batch_normalization_1 (Batch (None, 32)                128       \n",
            "_________________________________________________________________\n",
            "dropout_1 (Dropout)          (None, 32)                0         \n",
            "_________________________________________________________________\n",
            "MNIST_class_layers (Dense)   (None, 10)                330       \n",
            "=================================================================\n",
            "Total params: 45,194\n",
            "Trainable params: 45,130\n",
            "Non-trainable params: 64\n",
            "_________________________________________________________________\n"
          ],
          "name": "stdout"
        }
      ]
    },
    {
      "cell_type": "code",
      "metadata": {
        "id": "LRxd2DPG-UaD"
      },
      "source": [
        "#model compile\n",
        "model.compile(optimizer=tf.keras.optimizers.SGD(learning_rate=0.001, momentum=0.9, nesterov=True),\n",
        "              loss='categorical_crossentropy',\n",
        "              metrics=['accuracy'])"
      ],
      "execution_count": 15,
      "outputs": []
    },
    {
      "cell_type": "code",
      "metadata": {
        "id": "OmoA1OxwqlXK"
      },
      "source": [
        "#save checkpoints\n",
        "cp = tf.keras.callbacks.ModelCheckpoint(\n",
        "    filepath='/content/drive/MyDrive/Task2_pretrained.h5',\n",
        "    monitor='val_accuracy',\n",
        "    mode='max',\n",
        "    save_best_only=True)"
      ],
      "execution_count": 16,
      "outputs": []
    },
    {
      "cell_type": "code",
      "metadata": {
        "colab": {
          "base_uri": "https://localhost:8080/"
        },
        "id": "BU965T_CzPWd",
        "outputId": "c32c45a9-246a-4903-fbe2-3f5b6c83676d"
      },
      "source": [
        "#run models for 1 epochs\n",
        "history=model.fit(\n",
        "    X_train, y_train,\n",
        "    validation_data=(X_test, y_test),\n",
        "    callbacks=[cp],\n",
        "    epochs=15,batch_size=32, verbose=1)"
      ],
      "execution_count": 17,
      "outputs": [
        {
          "output_type": "stream",
          "text": [
            "Epoch 1/15\n",
            "1875/1875 [==============================] - 40s 4ms/step - loss: 1.2470 - accuracy: 0.5834 - val_loss: 0.2237 - val_accuracy: 0.9442\n",
            "Epoch 2/15\n",
            "1875/1875 [==============================] - 7s 4ms/step - loss: 0.5006 - accuracy: 0.8230 - val_loss: 0.1093 - val_accuracy: 0.9700\n",
            "Epoch 3/15\n",
            "1875/1875 [==============================] - 7s 4ms/step - loss: 0.4188 - accuracy: 0.8489 - val_loss: 0.0937 - val_accuracy: 0.9710\n",
            "Epoch 4/15\n",
            "1875/1875 [==============================] - 7s 4ms/step - loss: 0.3812 - accuracy: 0.8614 - val_loss: 0.0733 - val_accuracy: 0.9777\n",
            "Epoch 5/15\n",
            "1875/1875 [==============================] - 7s 4ms/step - loss: 0.3572 - accuracy: 0.8678 - val_loss: 0.0637 - val_accuracy: 0.9803\n",
            "Epoch 6/15\n",
            "1875/1875 [==============================] - 7s 4ms/step - loss: 0.3383 - accuracy: 0.8739 - val_loss: 0.0619 - val_accuracy: 0.9808\n",
            "Epoch 7/15\n",
            "1875/1875 [==============================] - 7s 4ms/step - loss: 0.3183 - accuracy: 0.8818 - val_loss: 0.0549 - val_accuracy: 0.9821\n",
            "Epoch 8/15\n",
            "1875/1875 [==============================] - 7s 4ms/step - loss: 0.2842 - accuracy: 0.8968 - val_loss: 0.0493 - val_accuracy: 0.9841\n",
            "Epoch 9/15\n",
            "1875/1875 [==============================] - 7s 4ms/step - loss: 0.2668 - accuracy: 0.9035 - val_loss: 0.0441 - val_accuracy: 0.9858\n",
            "Epoch 10/15\n",
            "1875/1875 [==============================] - 7s 4ms/step - loss: 0.2528 - accuracy: 0.9066 - val_loss: 0.0441 - val_accuracy: 0.9858\n",
            "Epoch 11/15\n",
            "1875/1875 [==============================] - 7s 4ms/step - loss: 0.2383 - accuracy: 0.9126 - val_loss: 0.0501 - val_accuracy: 0.9842\n",
            "Epoch 12/15\n",
            "1875/1875 [==============================] - 7s 4ms/step - loss: 0.2280 - accuracy: 0.9165 - val_loss: 0.0454 - val_accuracy: 0.9846\n",
            "Epoch 13/15\n",
            "1875/1875 [==============================] - 7s 4ms/step - loss: 0.2200 - accuracy: 0.9185 - val_loss: 0.0422 - val_accuracy: 0.9869\n",
            "Epoch 14/15\n",
            "1875/1875 [==============================] - 7s 4ms/step - loss: 0.2141 - accuracy: 0.9187 - val_loss: 0.0686 - val_accuracy: 0.9785\n",
            "Epoch 15/15\n",
            "1875/1875 [==============================] - 7s 4ms/step - loss: 0.2152 - accuracy: 0.9186 - val_loss: 0.0388 - val_accuracy: 0.9876\n"
          ],
          "name": "stdout"
        }
      ]
    },
    {
      "cell_type": "code",
      "metadata": {
        "id": "JudijON6YBVP"
      },
      "source": [
        "model.save('/content/drive/MyDrive/IIITDelhi_Task2_pretrained_MNIST_valacc_98.h5')"
      ],
      "execution_count": 20,
      "outputs": []
    },
    {
      "cell_type": "markdown",
      "metadata": {
        "id": "qIsvdWlGuN2f"
      },
      "source": [
        "# Random Initialized Weights"
      ]
    },
    {
      "cell_type": "code",
      "metadata": {
        "id": "9apDNzCkuT-w"
      },
      "source": [
        "#define a random initialized network\n",
        "input_shape=(28,28,1) # size of input image and \n",
        "model1 = Sequential([\n",
        "    Conv2D(64, (3,3), activation='relu',input_shape=input_shape),\n",
        "    MaxPooling2D(pool_size=(2,2)), \n",
        "    Conv2D(32, (3,3), activation='relu'),\n",
        "    MaxPooling2D(pool_size=(2,2)),  \n",
        "    Flatten(),\n",
        "    Dense(32, activation='relu'),\n",
        "    BatchNormalization(),\n",
        "    Dropout(0.4),\n",
        "    Dense(10, activation='softmax'),])"
      ],
      "execution_count": 28,
      "outputs": []
    },
    {
      "cell_type": "code",
      "metadata": {
        "id": "B25_xApRuqVj"
      },
      "source": [
        "#compile\n",
        "model1.compile(optimizer=tf.keras.optimizers.SGD(learning_rate=0.001, momentum=0.9, nesterov=True),\n",
        "              loss='categorical_crossentropy',\n",
        "              metrics=['accuracy'])"
      ],
      "execution_count": 29,
      "outputs": []
    },
    {
      "cell_type": "code",
      "metadata": {
        "id": "iqVzocW_us9o"
      },
      "source": [
        "cp = tf.keras.callbacks.ModelCheckpoint(\n",
        "    filepath='/content/drive/MyDrive/Task2_random_weights.h5',\n",
        "    monitor='val_accuracy',\n",
        "    mode='max',\n",
        "    save_best_only=True)"
      ],
      "execution_count": 30,
      "outputs": []
    },
    {
      "cell_type": "code",
      "metadata": {
        "colab": {
          "base_uri": "https://localhost:8080/"
        },
        "id": "MFm4cXXhuvG6",
        "outputId": "b2cb59da-eace-40eb-c565-b78f58a38bad"
      },
      "source": [
        "#run train epochs on mnist\n",
        "history=model1.fit(\n",
        "    X_train, y_train,\n",
        "    validation_data=(X_test, y_test),\n",
        "    callbacks=[cp],\n",
        "    epochs=15,batch_size=32, verbose=1)"
      ],
      "execution_count": 31,
      "outputs": [
        {
          "output_type": "stream",
          "text": [
            "Epoch 1/15\n",
            "1875/1875 [==============================] - 8s 4ms/step - loss: 0.7140 - accuracy: 0.7956 - val_loss: 0.1076 - val_accuracy: 0.9720\n",
            "Epoch 2/15\n",
            "1875/1875 [==============================] - 7s 4ms/step - loss: 0.2024 - accuracy: 0.9473 - val_loss: 0.0765 - val_accuracy: 0.9766\n",
            "Epoch 3/15\n",
            "1875/1875 [==============================] - 7s 4ms/step - loss: 0.1431 - accuracy: 0.9618 - val_loss: 0.0517 - val_accuracy: 0.9832\n",
            "Epoch 4/15\n",
            "1875/1875 [==============================] - 7s 4ms/step - loss: 0.1182 - accuracy: 0.9677 - val_loss: 0.0494 - val_accuracy: 0.9840\n",
            "Epoch 5/15\n",
            "1875/1875 [==============================] - 7s 4ms/step - loss: 0.1016 - accuracy: 0.9717 - val_loss: 0.0465 - val_accuracy: 0.9848\n",
            "Epoch 6/15\n",
            "1875/1875 [==============================] - 7s 4ms/step - loss: 0.0940 - accuracy: 0.9732 - val_loss: 0.0412 - val_accuracy: 0.9867\n",
            "Epoch 7/15\n",
            "1875/1875 [==============================] - 7s 4ms/step - loss: 0.0849 - accuracy: 0.9766 - val_loss: 0.0402 - val_accuracy: 0.9858\n",
            "Epoch 8/15\n",
            "1875/1875 [==============================] - 7s 4ms/step - loss: 0.0790 - accuracy: 0.9780 - val_loss: 0.0348 - val_accuracy: 0.9877\n",
            "Epoch 9/15\n",
            "1875/1875 [==============================] - 7s 4ms/step - loss: 0.0750 - accuracy: 0.9776 - val_loss: 0.0365 - val_accuracy: 0.9865\n",
            "Epoch 10/15\n",
            "1875/1875 [==============================] - 7s 4ms/step - loss: 0.0697 - accuracy: 0.9793 - val_loss: 0.0347 - val_accuracy: 0.9880\n",
            "Epoch 11/15\n",
            "1875/1875 [==============================] - 7s 4ms/step - loss: 0.0672 - accuracy: 0.9803 - val_loss: 0.0350 - val_accuracy: 0.9885\n",
            "Epoch 12/15\n",
            "1875/1875 [==============================] - 7s 4ms/step - loss: 0.0609 - accuracy: 0.9823 - val_loss: 0.0292 - val_accuracy: 0.9893\n",
            "Epoch 13/15\n",
            "1875/1875 [==============================] - 7s 4ms/step - loss: 0.0624 - accuracy: 0.9817 - val_loss: 0.0348 - val_accuracy: 0.9882\n",
            "Epoch 14/15\n",
            "1875/1875 [==============================] - 7s 4ms/step - loss: 0.0551 - accuracy: 0.9843 - val_loss: 0.0327 - val_accuracy: 0.9885\n",
            "Epoch 15/15\n",
            "1875/1875 [==============================] - 7s 4ms/step - loss: 0.0543 - accuracy: 0.9839 - val_loss: 0.0286 - val_accuracy: 0.9895\n"
          ],
          "name": "stdout"
        }
      ]
    },
    {
      "cell_type": "code",
      "metadata": {
        "id": "lYl__Xo5wGK7"
      },
      "source": [
        "#save model\n",
        "model1.save('/content/drive/MyDrive/IIITDelhi_Task2_random_weights.h5')"
      ],
      "execution_count": 33,
      "outputs": []
    }
  ]
}